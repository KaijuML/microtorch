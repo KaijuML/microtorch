{
 "cells": [
  {
   "cell_type": "markdown",
   "metadata": {},
   "source": [
    "## Learning a simple function\n",
    "\n",
    "In this notebook, we'll learn the single function f(x) = a @ x + b"
   ]
  },
  {
   "cell_type": "code",
   "execution_count": 1,
   "metadata": {},
   "outputs": [],
   "source": [
    "from minitorch import Tensor, Parameter, Module, Functions\n",
    "from minitorch.optim import SGD\n",
    "import numpy as np"
   ]
  },
  {
   "cell_type": "code",
   "execution_count": 2,
   "metadata": {},
   "outputs": [],
   "source": [
    "\n",
    "# Setting up the 'a' coefs of the function to learn\n",
    "coef = np.array([-1, 3, -2])\n",
    "\n",
    "# Initializing some inputs randomly\n",
    "inputs = Tensor(np.random.randn(10, 3))\n",
    "\n",
    "# Setting 'b' to be 5 and computing f(x)\n",
    "targets = Tensor(5 + inputs.data @ coef)"
   ]
  },
  {
   "cell_type": "code",
   "execution_count": 3,
   "metadata": {},
   "outputs": [],
   "source": [
    "class Linear(Module):\n",
    "    \"\"\"\n",
    "    Simple linear layer with a learned 'a' and 'b'\n",
    "    \"\"\"\n",
    "    def __init__(self, in_dim, out_dim):\n",
    "        super().__init__()\n",
    "        \n",
    "        self.Weights = Parameter(in_dim, out_dim)\n",
    "        self.bias = Parameter(out_dim)\n",
    "        \n",
    "    def forward(self, inputs):\n",
    "        return inputs @ self.Weights + self.bias"
   ]
  },
  {
   "cell_type": "code",
   "execution_count": 4,
   "metadata": {},
   "outputs": [],
   "source": [
    "model = Linear(3, 1)\n",
    "optimizer = SGD(model, lr=1e-3)\n",
    "criterion = Functions.MSE"
   ]
  },
  {
   "cell_type": "code",
   "execution_count": 7,
   "metadata": {},
   "outputs": [
    {
     "data": {
      "text/plain": [
       "(10, 3)"
      ]
     },
     "execution_count": 7,
     "metadata": {},
     "output_type": "execute_result"
    }
   ],
   "source": [
    "inputs.shape"
   ]
  },
  {
   "cell_type": "code",
   "execution_count": 9,
   "metadata": {},
   "outputs": [
    {
     "data": {
      "text/plain": [
       "(3, 1)"
      ]
     },
     "execution_count": 9,
     "metadata": {},
     "output_type": "execute_result"
    }
   ],
   "source": [
    "model.Weights.shape"
   ]
  },
  {
   "cell_type": "code",
   "execution_count": 5,
   "metadata": {},
   "outputs": [
    {
     "name": "stdout",
     "output_type": "stream",
     "text": [
      "376.3260377417569\n",
      "27.066574161498373\n",
      "4.007283346412114\n",
      "0.8058400714417325\n",
      "0.2513825295261604\n",
      "0.11345933238249598\n",
      "0.06018717426920231\n",
      "0.03351951732700439\n",
      "0.018907883443664654\n",
      "0.010700179104790604\n",
      "0.00606024533506043\n",
      "0.0034330250442664006\n",
      "0.001944847656429682\n",
      "0.0011017920974995016\n",
      "0.0006241875142361024\n",
      "0.0003536151310067823\n",
      "0.00020033032118141371\n",
      "0.0001134912960804293\n",
      "6.429518190692069e-05\n",
      "3.6424559166157606e-05\n"
     ]
    }
   ],
   "source": [
    "for epoch in range(1000):\n",
    "    optimizer.zero_grad()\n",
    "    \n",
    "    outputs = model(inputs)\n",
    "    loss = criterion(outputs[:, 0], targets)\n",
    "    \n",
    "    loss.backward()\n",
    "    \n",
    "    optimizer.step()\n",
    "    \n",
    "    if epoch % 50 == 0: \n",
    "        print(loss.item())"
   ]
  },
  {
   "cell_type": "code",
   "execution_count": 6,
   "metadata": {},
   "outputs": [
    {
     "name": "stdout",
     "output_type": "stream",
     "text": [
      "[-1.0005635979741223, 3.0015627882827416, -2.001495748085129]\n",
      "[4.99848795]\n"
     ]
    }
   ],
   "source": [
    "# Printing the learned parameters of the model\n",
    "# Remember that we are trying to find a = [-1, 3, -2] and b = 5\n",
    "print(model.Weights.data.reshape(-1).tolist())\n",
    "print(model.bias.data)"
   ]
  }
 ],
 "metadata": {
  "kernelspec": {
   "display_name": "Python 3",
   "language": "python",
   "name": "python3"
  },
  "language_info": {
   "codemirror_mode": {
    "name": "ipython",
    "version": 3
   },
   "file_extension": ".py",
   "mimetype": "text/x-python",
   "name": "python",
   "nbconvert_exporter": "python",
   "pygments_lexer": "ipython3",
   "version": "3.8.5"
  }
 },
 "nbformat": 4,
 "nbformat_minor": 4
}
